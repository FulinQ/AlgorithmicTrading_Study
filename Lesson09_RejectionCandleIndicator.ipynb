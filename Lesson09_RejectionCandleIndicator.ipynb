{
 "cells": [
  {
   "cell_type": "code",
   "execution_count": 24,
   "metadata": {},
   "outputs": [],
   "source": [
    "import yfinance as yf\n",
    "import pandas as pd\n",
    "import pandas_ta as ta\n",
    "import numpy as np\n",
    "import plotly.graph_objects as go \n",
    "import matplotlib as plt\n",
    "from plotly.subplots import make_subplots"
   ]
  },
  {
   "cell_type": "code",
   "execution_count": 9,
   "metadata": {},
   "outputs": [
    {
     "name": "stderr",
     "output_type": "stream",
     "text": [
      "[*********************100%***********************]  1 of 1 completed\n"
     ]
    }
   ],
   "source": [
    "data = yf.download(tickers='DELTA.BK', period='max', interval='1d')\n",
    "data.columns = data.columns.droplevel(1)"
   ]
  },
  {
   "cell_type": "code",
   "execution_count": 10,
   "metadata": {},
   "outputs": [
    {
     "data": {
      "text/html": [
       "<div>\n",
       "<style scoped>\n",
       "    .dataframe tbody tr th:only-of-type {\n",
       "        vertical-align: middle;\n",
       "    }\n",
       "\n",
       "    .dataframe tbody tr th {\n",
       "        vertical-align: top;\n",
       "    }\n",
       "\n",
       "    .dataframe thead th {\n",
       "        text-align: right;\n",
       "    }\n",
       "</style>\n",
       "<table border=\"1\" class=\"dataframe\">\n",
       "  <thead>\n",
       "    <tr style=\"text-align: right;\">\n",
       "      <th>Price</th>\n",
       "      <th>Date</th>\n",
       "      <th>Close</th>\n",
       "      <th>High</th>\n",
       "      <th>Low</th>\n",
       "      <th>Open</th>\n",
       "      <th>Volume</th>\n",
       "    </tr>\n",
       "  </thead>\n",
       "  <tbody>\n",
       "    <tr>\n",
       "      <th>6091</th>\n",
       "      <td>2025-03-24</td>\n",
       "      <td>68.25</td>\n",
       "      <td>70.00</td>\n",
       "      <td>67.00</td>\n",
       "      <td>70.00</td>\n",
       "      <td>10181500</td>\n",
       "    </tr>\n",
       "    <tr>\n",
       "      <th>6092</th>\n",
       "      <td>2025-03-25</td>\n",
       "      <td>70.00</td>\n",
       "      <td>70.50</td>\n",
       "      <td>67.50</td>\n",
       "      <td>69.00</td>\n",
       "      <td>19384600</td>\n",
       "    </tr>\n",
       "    <tr>\n",
       "      <th>6093</th>\n",
       "      <td>2025-03-26</td>\n",
       "      <td>73.50</td>\n",
       "      <td>74.75</td>\n",
       "      <td>70.25</td>\n",
       "      <td>70.25</td>\n",
       "      <td>28478600</td>\n",
       "    </tr>\n",
       "    <tr>\n",
       "      <th>6094</th>\n",
       "      <td>2025-03-27</td>\n",
       "      <td>72.25</td>\n",
       "      <td>72.75</td>\n",
       "      <td>71.00</td>\n",
       "      <td>72.50</td>\n",
       "      <td>13648300</td>\n",
       "    </tr>\n",
       "    <tr>\n",
       "      <th>6095</th>\n",
       "      <td>2025-03-28</td>\n",
       "      <td>69.00</td>\n",
       "      <td>71.50</td>\n",
       "      <td>68.75</td>\n",
       "      <td>71.50</td>\n",
       "      <td>12954900</td>\n",
       "    </tr>\n",
       "    <tr>\n",
       "      <th>6096</th>\n",
       "      <td>2025-03-31</td>\n",
       "      <td>65.75</td>\n",
       "      <td>67.25</td>\n",
       "      <td>65.50</td>\n",
       "      <td>65.75</td>\n",
       "      <td>22623900</td>\n",
       "    </tr>\n",
       "    <tr>\n",
       "      <th>6097</th>\n",
       "      <td>2025-04-01</td>\n",
       "      <td>66.75</td>\n",
       "      <td>67.00</td>\n",
       "      <td>66.25</td>\n",
       "      <td>67.00</td>\n",
       "      <td>7164700</td>\n",
       "    </tr>\n",
       "    <tr>\n",
       "      <th>6098</th>\n",
       "      <td>2025-04-02</td>\n",
       "      <td>67.50</td>\n",
       "      <td>69.00</td>\n",
       "      <td>67.00</td>\n",
       "      <td>67.25</td>\n",
       "      <td>8580900</td>\n",
       "    </tr>\n",
       "    <tr>\n",
       "      <th>6099</th>\n",
       "      <td>2025-04-03</td>\n",
       "      <td>60.50</td>\n",
       "      <td>65.50</td>\n",
       "      <td>59.00</td>\n",
       "      <td>65.00</td>\n",
       "      <td>26206000</td>\n",
       "    </tr>\n",
       "    <tr>\n",
       "      <th>6100</th>\n",
       "      <td>2025-04-04</td>\n",
       "      <td>56.75</td>\n",
       "      <td>59.50</td>\n",
       "      <td>56.25</td>\n",
       "      <td>59.50</td>\n",
       "      <td>27236900</td>\n",
       "    </tr>\n",
       "  </tbody>\n",
       "</table>\n",
       "</div>"
      ],
      "text/plain": [
       "Price       Date  Close   High    Low   Open    Volume\n",
       "6091  2025-03-24  68.25  70.00  67.00  70.00  10181500\n",
       "6092  2025-03-25  70.00  70.50  67.50  69.00  19384600\n",
       "6093  2025-03-26  73.50  74.75  70.25  70.25  28478600\n",
       "6094  2025-03-27  72.25  72.75  71.00  72.50  13648300\n",
       "6095  2025-03-28  69.00  71.50  68.75  71.50  12954900\n",
       "6096  2025-03-31  65.75  67.25  65.50  65.75  22623900\n",
       "6097  2025-04-01  66.75  67.00  66.25  67.00   7164700\n",
       "6098  2025-04-02  67.50  69.00  67.00  67.25   8580900\n",
       "6099  2025-04-03  60.50  65.50  59.00  65.00  26206000\n",
       "6100  2025-04-04  56.75  59.50  56.25  59.50  27236900"
      ]
     },
     "execution_count": 10,
     "metadata": {},
     "output_type": "execute_result"
    }
   ],
   "source": [
    "data = data[data['High'] != data['Low']]\n",
    "data.reset_index(inplace=True)\n",
    "data.tail(10)"
   ]
  },
  {
   "cell_type": "code",
   "execution_count": 11,
   "metadata": {},
   "outputs": [],
   "source": [
    "def rejection_signal(df):\n",
    "    #Bullish signal\n",
    "    if (df.Open.iloc[-1] < df.Close.iloc[-1] and\n",
    "        df.High.iloc[-1] - df.Close.iloc[-1] < abs(df.Open.iloc[-1] - df.Close.iloc[-1])/10 and\n",
    "        df.Close.iloc[-1] - df.Low.iloc[-1] > abs(df.Open.iloc[-1] - df.Close.iloc[-1])*5):\n",
    "        return 2\n",
    "    \n",
    "    #Bearish signal\n",
    "    elif (df.Open.iloc[-1] > df.Close.iloc[-1] and\n",
    "          df.High.iloc[-1] - df.Open.iloc[-1] > abs(df.Open.iloc[-1] - df.Close.iloc[-1])/10 and\n",
    "          df.Close.iloc[-1] - df.Low.iloc[-1] < abs(df.Open.iloc[-1] - df.Close.iloc[-1])*5):\n",
    "        return 1\n",
    "    \n",
    "    else:\n",
    "        return 0\n",
    "    \n",
    "def engulfing_signal(df):\n",
    "    previous_candle = df.iloc[-2]\n",
    "    current_candle = df.iloc[-1]\n",
    "    \n",
    "    #Bullish Engulfing\n",
    "    if ((current_candle['Close'] > previous_candle['Open']) and\n",
    "        (current_candle['Open'] < previous_candle['Close']) and\n",
    "        (previous_candle['Open']) > previous_candle['Close']):\n",
    "        return 2\n",
    "    \n",
    "    #Bearish Engulfing\n",
    "    elif ((current_candle['Open'] > previous_candle['Close']) and\n",
    "          (current_candle['Close'] < previous_candle['Open']) and\n",
    "          (previous_candle['Close']) > previous_candle['Open']):\n",
    "        return 1\n",
    "    \n",
    "    else:\n",
    "        return 0\n",
    "    \n",
    "signal = [0]*len(data)\n",
    "for i in range(3, len(data)):\n",
    "    df = data[i-3 : i+1]\n",
    "    signal[i] = rejection_signal(df)\n",
    "data['Rejection_signal'] = signal\n",
    "\n",
    "signal = [0]*len(data)\n",
    "for i in range(1, len(data)):\n",
    "    df = data[i-1 : i+1]\n",
    "    signal[i] = engulfing_signal(df)\n",
    "data['engulfing_signal'] = signal"
   ]
  },
  {
   "cell_type": "code",
   "execution_count": 18,
   "metadata": {},
   "outputs": [],
   "source": [
    "up_count = 0\n",
    "down_count = 0\n",
    "total_count = 0\n",
    "\n",
    "for i in range(len(data) - 1):\n",
    "    if data.engulfing_signal.iloc[i] == 1:\n",
    "        total_count += 1\n",
    "        if data.Close.iloc[i+1] > data.Open.iloc[i+1]:\n",
    "            up_count += 1\n",
    "        elif data.Close.iloc[i+1] < data.Open.iloc[i+1]:\n",
    "            down_count += 1\n",
    "            \n",
    "if total_count > 0:\n",
    "    up_percentage = (up_count / total_count) * 100\n",
    "    down_percentage = (down_count / total_count) * 100\n",
    "else:\n",
    "    up_percentage = 0\n",
    "    down_percentage = 0\n",
    "    print('No bearish engulfing signals found in the dataset.')"
   ]
  },
  {
   "cell_type": "code",
   "execution_count": 17,
   "metadata": {},
   "outputs": [
    {
     "name": "stdout",
     "output_type": "stream",
     "text": [
      "up_percentage\t : 45.45454545454545\n",
      "down_percentage\t : 47.4025974025974\n",
      "Total count\t : 154\n"
     ]
    }
   ],
   "source": [
    "print(f'up_percentage\\t : {up_percentage}')\n",
    "print(f'down_percentage\\t : {down_percentage}')\n",
    "print(f'Total count\\t : {total_count}')"
   ]
  },
  {
   "cell_type": "code",
   "execution_count": 19,
   "metadata": {},
   "outputs": [
    {
     "data": {
      "text/html": [
       "<div>\n",
       "<style scoped>\n",
       "    .dataframe tbody tr th:only-of-type {\n",
       "        vertical-align: middle;\n",
       "    }\n",
       "\n",
       "    .dataframe tbody tr th {\n",
       "        vertical-align: top;\n",
       "    }\n",
       "\n",
       "    .dataframe thead th {\n",
       "        text-align: right;\n",
       "    }\n",
       "</style>\n",
       "<table border=\"1\" class=\"dataframe\">\n",
       "  <thead>\n",
       "    <tr style=\"text-align: right;\">\n",
       "      <th>Price</th>\n",
       "      <th>Date</th>\n",
       "      <th>Close</th>\n",
       "      <th>High</th>\n",
       "      <th>Low</th>\n",
       "      <th>Open</th>\n",
       "      <th>Volume</th>\n",
       "      <th>Rejection_signal</th>\n",
       "      <th>engulfing_signal</th>\n",
       "    </tr>\n",
       "  </thead>\n",
       "  <tbody>\n",
       "    <tr>\n",
       "      <th>56</th>\n",
       "      <td>2000-03-23</td>\n",
       "      <td>-0.752506</td>\n",
       "      <td>-0.761731</td>\n",
       "      <td>-0.740146</td>\n",
       "      <td>-0.740146</td>\n",
       "      <td>3610045</td>\n",
       "      <td>0</td>\n",
       "      <td>1</td>\n",
       "    </tr>\n",
       "    <tr>\n",
       "      <th>130</th>\n",
       "      <td>2000-07-18</td>\n",
       "      <td>-1.111274</td>\n",
       "      <td>-1.125701</td>\n",
       "      <td>-1.068773</td>\n",
       "      <td>-1.068773</td>\n",
       "      <td>4739305</td>\n",
       "      <td>0</td>\n",
       "      <td>1</td>\n",
       "    </tr>\n",
       "    <tr>\n",
       "      <th>140</th>\n",
       "      <td>2000-08-01</td>\n",
       "      <td>-1.104256</td>\n",
       "      <td>-1.104256</td>\n",
       "      <td>-1.032900</td>\n",
       "      <td>-1.032900</td>\n",
       "      <td>257215</td>\n",
       "      <td>0</td>\n",
       "      <td>1</td>\n",
       "    </tr>\n",
       "    <tr>\n",
       "      <th>190</th>\n",
       "      <td>2000-10-12</td>\n",
       "      <td>-0.651948</td>\n",
       "      <td>-0.651948</td>\n",
       "      <td>-0.616465</td>\n",
       "      <td>-0.623483</td>\n",
       "      <td>12138315</td>\n",
       "      <td>0</td>\n",
       "      <td>1</td>\n",
       "    </tr>\n",
       "    <tr>\n",
       "      <th>214</th>\n",
       "      <td>2000-11-16</td>\n",
       "      <td>-0.968953</td>\n",
       "      <td>-0.975972</td>\n",
       "      <td>-0.933470</td>\n",
       "      <td>-0.940489</td>\n",
       "      <td>4750250</td>\n",
       "      <td>0</td>\n",
       "      <td>1</td>\n",
       "    </tr>\n",
       "    <tr>\n",
       "      <th>...</th>\n",
       "      <td>...</td>\n",
       "      <td>...</td>\n",
       "      <td>...</td>\n",
       "      <td>...</td>\n",
       "      <td>...</td>\n",
       "      <td>...</td>\n",
       "      <td>...</td>\n",
       "      <td>...</td>\n",
       "    </tr>\n",
       "    <tr>\n",
       "      <th>6017</th>\n",
       "      <td>2024-12-03</td>\n",
       "      <td>150.158051</td>\n",
       "      <td>152.146899</td>\n",
       "      <td>148.666414</td>\n",
       "      <td>151.649687</td>\n",
       "      <td>8944600</td>\n",
       "      <td>1</td>\n",
       "      <td>1</td>\n",
       "    </tr>\n",
       "    <tr>\n",
       "      <th>6030</th>\n",
       "      <td>2024-12-24</td>\n",
       "      <td>150.158051</td>\n",
       "      <td>153.638535</td>\n",
       "      <td>149.660838</td>\n",
       "      <td>152.146899</td>\n",
       "      <td>16441300</td>\n",
       "      <td>1</td>\n",
       "      <td>1</td>\n",
       "    </tr>\n",
       "    <tr>\n",
       "      <th>6065</th>\n",
       "      <td>2025-02-14</td>\n",
       "      <td>112.369934</td>\n",
       "      <td>116.347631</td>\n",
       "      <td>111.375510</td>\n",
       "      <td>115.850419</td>\n",
       "      <td>16660000</td>\n",
       "      <td>1</td>\n",
       "      <td>1</td>\n",
       "    </tr>\n",
       "    <tr>\n",
       "      <th>6067</th>\n",
       "      <td>2025-02-18</td>\n",
       "      <td>77.316483</td>\n",
       "      <td>86.514907</td>\n",
       "      <td>77.067876</td>\n",
       "      <td>86.514907</td>\n",
       "      <td>50749700</td>\n",
       "      <td>0</td>\n",
       "      <td>1</td>\n",
       "    </tr>\n",
       "    <tr>\n",
       "      <th>6076</th>\n",
       "      <td>2025-03-03</td>\n",
       "      <td>71.250000</td>\n",
       "      <td>79.500000</td>\n",
       "      <td>70.250000</td>\n",
       "      <td>78.250000</td>\n",
       "      <td>36008100</td>\n",
       "      <td>1</td>\n",
       "      <td>1</td>\n",
       "    </tr>\n",
       "  </tbody>\n",
       "</table>\n",
       "<p>175 rows × 8 columns</p>\n",
       "</div>"
      ],
      "text/plain": [
       "Price       Date       Close        High         Low        Open    Volume  \\\n",
       "56    2000-03-23   -0.752506   -0.761731   -0.740146   -0.740146   3610045   \n",
       "130   2000-07-18   -1.111274   -1.125701   -1.068773   -1.068773   4739305   \n",
       "140   2000-08-01   -1.104256   -1.104256   -1.032900   -1.032900    257215   \n",
       "190   2000-10-12   -0.651948   -0.651948   -0.616465   -0.623483  12138315   \n",
       "214   2000-11-16   -0.968953   -0.975972   -0.933470   -0.940489   4750250   \n",
       "...          ...         ...         ...         ...         ...       ...   \n",
       "6017  2024-12-03  150.158051  152.146899  148.666414  151.649687   8944600   \n",
       "6030  2024-12-24  150.158051  153.638535  149.660838  152.146899  16441300   \n",
       "6065  2025-02-14  112.369934  116.347631  111.375510  115.850419  16660000   \n",
       "6067  2025-02-18   77.316483   86.514907   77.067876   86.514907  50749700   \n",
       "6076  2025-03-03   71.250000   79.500000   70.250000   78.250000  36008100   \n",
       "\n",
       "Price  Rejection_signal  engulfing_signal  \n",
       "56                    0                 1  \n",
       "130                   0                 1  \n",
       "140                   0                 1  \n",
       "190                   0                 1  \n",
       "214                   0                 1  \n",
       "...                 ...               ...  \n",
       "6017                  1                 1  \n",
       "6030                  1                 1  \n",
       "6065                  1                 1  \n",
       "6067                  0                 1  \n",
       "6076                  1                 1  \n",
       "\n",
       "[175 rows x 8 columns]"
      ]
     },
     "execution_count": 19,
     "metadata": {},
     "output_type": "execute_result"
    }
   ],
   "source": [
    "data[data['engulfing_signal'] == 1]"
   ]
  },
  {
   "cell_type": "code",
   "execution_count": 22,
   "metadata": {},
   "outputs": [
    {
     "data": {
      "application/vnd.plotly.v1+json": {
       "config": {
        "plotlyServerURL": "https://plot.ly"
       },
       "data": [
        {
         "close": [
          60.5,
          56.75
         ],
         "high": [
          65.5,
          59.5
         ],
         "low": [
          59,
          56.25
         ],
         "name": "OHLC",
         "open": [
          65,
          59.5
         ],
         "type": "candlestick",
         "x": [
          "2025-04-03T00:00:00",
          "2025-04-04T00:00:00"
         ]
        }
       ],
       "layout": {
        "template": {
         "data": {
          "bar": [
           {
            "error_x": {
             "color": "#2a3f5f"
            },
            "error_y": {
             "color": "#2a3f5f"
            },
            "marker": {
             "line": {
              "color": "#E5ECF6",
              "width": 0.5
             },
             "pattern": {
              "fillmode": "overlay",
              "size": 10,
              "solidity": 0.2
             }
            },
            "type": "bar"
           }
          ],
          "barpolar": [
           {
            "marker": {
             "line": {
              "color": "#E5ECF6",
              "width": 0.5
             },
             "pattern": {
              "fillmode": "overlay",
              "size": 10,
              "solidity": 0.2
             }
            },
            "type": "barpolar"
           }
          ],
          "carpet": [
           {
            "aaxis": {
             "endlinecolor": "#2a3f5f",
             "gridcolor": "white",
             "linecolor": "white",
             "minorgridcolor": "white",
             "startlinecolor": "#2a3f5f"
            },
            "baxis": {
             "endlinecolor": "#2a3f5f",
             "gridcolor": "white",
             "linecolor": "white",
             "minorgridcolor": "white",
             "startlinecolor": "#2a3f5f"
            },
            "type": "carpet"
           }
          ],
          "choropleth": [
           {
            "colorbar": {
             "outlinewidth": 0,
             "ticks": ""
            },
            "type": "choropleth"
           }
          ],
          "contour": [
           {
            "colorbar": {
             "outlinewidth": 0,
             "ticks": ""
            },
            "colorscale": [
             [
              0,
              "#0d0887"
             ],
             [
              0.1111111111111111,
              "#46039f"
             ],
             [
              0.2222222222222222,
              "#7201a8"
             ],
             [
              0.3333333333333333,
              "#9c179e"
             ],
             [
              0.4444444444444444,
              "#bd3786"
             ],
             [
              0.5555555555555556,
              "#d8576b"
             ],
             [
              0.6666666666666666,
              "#ed7953"
             ],
             [
              0.7777777777777778,
              "#fb9f3a"
             ],
             [
              0.8888888888888888,
              "#fdca26"
             ],
             [
              1,
              "#f0f921"
             ]
            ],
            "type": "contour"
           }
          ],
          "contourcarpet": [
           {
            "colorbar": {
             "outlinewidth": 0,
             "ticks": ""
            },
            "type": "contourcarpet"
           }
          ],
          "heatmap": [
           {
            "colorbar": {
             "outlinewidth": 0,
             "ticks": ""
            },
            "colorscale": [
             [
              0,
              "#0d0887"
             ],
             [
              0.1111111111111111,
              "#46039f"
             ],
             [
              0.2222222222222222,
              "#7201a8"
             ],
             [
              0.3333333333333333,
              "#9c179e"
             ],
             [
              0.4444444444444444,
              "#bd3786"
             ],
             [
              0.5555555555555556,
              "#d8576b"
             ],
             [
              0.6666666666666666,
              "#ed7953"
             ],
             [
              0.7777777777777778,
              "#fb9f3a"
             ],
             [
              0.8888888888888888,
              "#fdca26"
             ],
             [
              1,
              "#f0f921"
             ]
            ],
            "type": "heatmap"
           }
          ],
          "heatmapgl": [
           {
            "colorbar": {
             "outlinewidth": 0,
             "ticks": ""
            },
            "colorscale": [
             [
              0,
              "#0d0887"
             ],
             [
              0.1111111111111111,
              "#46039f"
             ],
             [
              0.2222222222222222,
              "#7201a8"
             ],
             [
              0.3333333333333333,
              "#9c179e"
             ],
             [
              0.4444444444444444,
              "#bd3786"
             ],
             [
              0.5555555555555556,
              "#d8576b"
             ],
             [
              0.6666666666666666,
              "#ed7953"
             ],
             [
              0.7777777777777778,
              "#fb9f3a"
             ],
             [
              0.8888888888888888,
              "#fdca26"
             ],
             [
              1,
              "#f0f921"
             ]
            ],
            "type": "heatmapgl"
           }
          ],
          "histogram": [
           {
            "marker": {
             "pattern": {
              "fillmode": "overlay",
              "size": 10,
              "solidity": 0.2
             }
            },
            "type": "histogram"
           }
          ],
          "histogram2d": [
           {
            "colorbar": {
             "outlinewidth": 0,
             "ticks": ""
            },
            "colorscale": [
             [
              0,
              "#0d0887"
             ],
             [
              0.1111111111111111,
              "#46039f"
             ],
             [
              0.2222222222222222,
              "#7201a8"
             ],
             [
              0.3333333333333333,
              "#9c179e"
             ],
             [
              0.4444444444444444,
              "#bd3786"
             ],
             [
              0.5555555555555556,
              "#d8576b"
             ],
             [
              0.6666666666666666,
              "#ed7953"
             ],
             [
              0.7777777777777778,
              "#fb9f3a"
             ],
             [
              0.8888888888888888,
              "#fdca26"
             ],
             [
              1,
              "#f0f921"
             ]
            ],
            "type": "histogram2d"
           }
          ],
          "histogram2dcontour": [
           {
            "colorbar": {
             "outlinewidth": 0,
             "ticks": ""
            },
            "colorscale": [
             [
              0,
              "#0d0887"
             ],
             [
              0.1111111111111111,
              "#46039f"
             ],
             [
              0.2222222222222222,
              "#7201a8"
             ],
             [
              0.3333333333333333,
              "#9c179e"
             ],
             [
              0.4444444444444444,
              "#bd3786"
             ],
             [
              0.5555555555555556,
              "#d8576b"
             ],
             [
              0.6666666666666666,
              "#ed7953"
             ],
             [
              0.7777777777777778,
              "#fb9f3a"
             ],
             [
              0.8888888888888888,
              "#fdca26"
             ],
             [
              1,
              "#f0f921"
             ]
            ],
            "type": "histogram2dcontour"
           }
          ],
          "mesh3d": [
           {
            "colorbar": {
             "outlinewidth": 0,
             "ticks": ""
            },
            "type": "mesh3d"
           }
          ],
          "parcoords": [
           {
            "line": {
             "colorbar": {
              "outlinewidth": 0,
              "ticks": ""
             }
            },
            "type": "parcoords"
           }
          ],
          "pie": [
           {
            "automargin": true,
            "type": "pie"
           }
          ],
          "scatter": [
           {
            "fillpattern": {
             "fillmode": "overlay",
             "size": 10,
             "solidity": 0.2
            },
            "type": "scatter"
           }
          ],
          "scatter3d": [
           {
            "line": {
             "colorbar": {
              "outlinewidth": 0,
              "ticks": ""
             }
            },
            "marker": {
             "colorbar": {
              "outlinewidth": 0,
              "ticks": ""
             }
            },
            "type": "scatter3d"
           }
          ],
          "scattercarpet": [
           {
            "marker": {
             "colorbar": {
              "outlinewidth": 0,
              "ticks": ""
             }
            },
            "type": "scattercarpet"
           }
          ],
          "scattergeo": [
           {
            "marker": {
             "colorbar": {
              "outlinewidth": 0,
              "ticks": ""
             }
            },
            "type": "scattergeo"
           }
          ],
          "scattergl": [
           {
            "marker": {
             "colorbar": {
              "outlinewidth": 0,
              "ticks": ""
             }
            },
            "type": "scattergl"
           }
          ],
          "scattermapbox": [
           {
            "marker": {
             "colorbar": {
              "outlinewidth": 0,
              "ticks": ""
             }
            },
            "type": "scattermapbox"
           }
          ],
          "scatterpolar": [
           {
            "marker": {
             "colorbar": {
              "outlinewidth": 0,
              "ticks": ""
             }
            },
            "type": "scatterpolar"
           }
          ],
          "scatterpolargl": [
           {
            "marker": {
             "colorbar": {
              "outlinewidth": 0,
              "ticks": ""
             }
            },
            "type": "scatterpolargl"
           }
          ],
          "scatterternary": [
           {
            "marker": {
             "colorbar": {
              "outlinewidth": 0,
              "ticks": ""
             }
            },
            "type": "scatterternary"
           }
          ],
          "surface": [
           {
            "colorbar": {
             "outlinewidth": 0,
             "ticks": ""
            },
            "colorscale": [
             [
              0,
              "#0d0887"
             ],
             [
              0.1111111111111111,
              "#46039f"
             ],
             [
              0.2222222222222222,
              "#7201a8"
             ],
             [
              0.3333333333333333,
              "#9c179e"
             ],
             [
              0.4444444444444444,
              "#bd3786"
             ],
             [
              0.5555555555555556,
              "#d8576b"
             ],
             [
              0.6666666666666666,
              "#ed7953"
             ],
             [
              0.7777777777777778,
              "#fb9f3a"
             ],
             [
              0.8888888888888888,
              "#fdca26"
             ],
             [
              1,
              "#f0f921"
             ]
            ],
            "type": "surface"
           }
          ],
          "table": [
           {
            "cells": {
             "fill": {
              "color": "#EBF0F8"
             },
             "line": {
              "color": "white"
             }
            },
            "header": {
             "fill": {
              "color": "#C8D4E3"
             },
             "line": {
              "color": "white"
             }
            },
            "type": "table"
           }
          ]
         },
         "layout": {
          "annotationdefaults": {
           "arrowcolor": "#2a3f5f",
           "arrowhead": 0,
           "arrowwidth": 1
          },
          "autotypenumbers": "strict",
          "coloraxis": {
           "colorbar": {
            "outlinewidth": 0,
            "ticks": ""
           }
          },
          "colorscale": {
           "diverging": [
            [
             0,
             "#8e0152"
            ],
            [
             0.1,
             "#c51b7d"
            ],
            [
             0.2,
             "#de77ae"
            ],
            [
             0.3,
             "#f1b6da"
            ],
            [
             0.4,
             "#fde0ef"
            ],
            [
             0.5,
             "#f7f7f7"
            ],
            [
             0.6,
             "#e6f5d0"
            ],
            [
             0.7,
             "#b8e186"
            ],
            [
             0.8,
             "#7fbc41"
            ],
            [
             0.9,
             "#4d9221"
            ],
            [
             1,
             "#276419"
            ]
           ],
           "sequential": [
            [
             0,
             "#0d0887"
            ],
            [
             0.1111111111111111,
             "#46039f"
            ],
            [
             0.2222222222222222,
             "#7201a8"
            ],
            [
             0.3333333333333333,
             "#9c179e"
            ],
            [
             0.4444444444444444,
             "#bd3786"
            ],
            [
             0.5555555555555556,
             "#d8576b"
            ],
            [
             0.6666666666666666,
             "#ed7953"
            ],
            [
             0.7777777777777778,
             "#fb9f3a"
            ],
            [
             0.8888888888888888,
             "#fdca26"
            ],
            [
             1,
             "#f0f921"
            ]
           ],
           "sequentialminus": [
            [
             0,
             "#0d0887"
            ],
            [
             0.1111111111111111,
             "#46039f"
            ],
            [
             0.2222222222222222,
             "#7201a8"
            ],
            [
             0.3333333333333333,
             "#9c179e"
            ],
            [
             0.4444444444444444,
             "#bd3786"
            ],
            [
             0.5555555555555556,
             "#d8576b"
            ],
            [
             0.6666666666666666,
             "#ed7953"
            ],
            [
             0.7777777777777778,
             "#fb9f3a"
            ],
            [
             0.8888888888888888,
             "#fdca26"
            ],
            [
             1,
             "#f0f921"
            ]
           ]
          },
          "colorway": [
           "#636efa",
           "#EF553B",
           "#00cc96",
           "#ab63fa",
           "#FFA15A",
           "#19d3f3",
           "#FF6692",
           "#B6E880",
           "#FF97FF",
           "#FECB52"
          ],
          "font": {
           "color": "#2a3f5f"
          },
          "geo": {
           "bgcolor": "white",
           "lakecolor": "white",
           "landcolor": "#E5ECF6",
           "showlakes": true,
           "showland": true,
           "subunitcolor": "white"
          },
          "hoverlabel": {
           "align": "left"
          },
          "hovermode": "closest",
          "mapbox": {
           "style": "light"
          },
          "paper_bgcolor": "white",
          "plot_bgcolor": "#E5ECF6",
          "polar": {
           "angularaxis": {
            "gridcolor": "white",
            "linecolor": "white",
            "ticks": ""
           },
           "bgcolor": "#E5ECF6",
           "radialaxis": {
            "gridcolor": "white",
            "linecolor": "white",
            "ticks": ""
           }
          },
          "scene": {
           "xaxis": {
            "backgroundcolor": "#E5ECF6",
            "gridcolor": "white",
            "gridwidth": 2,
            "linecolor": "white",
            "showbackground": true,
            "ticks": "",
            "zerolinecolor": "white"
           },
           "yaxis": {
            "backgroundcolor": "#E5ECF6",
            "gridcolor": "white",
            "gridwidth": 2,
            "linecolor": "white",
            "showbackground": true,
            "ticks": "",
            "zerolinecolor": "white"
           },
           "zaxis": {
            "backgroundcolor": "#E5ECF6",
            "gridcolor": "white",
            "gridwidth": 2,
            "linecolor": "white",
            "showbackground": true,
            "ticks": "",
            "zerolinecolor": "white"
           }
          },
          "shapedefaults": {
           "line": {
            "color": "#2a3f5f"
           }
          },
          "ternary": {
           "aaxis": {
            "gridcolor": "white",
            "linecolor": "white",
            "ticks": ""
           },
           "baxis": {
            "gridcolor": "white",
            "linecolor": "white",
            "ticks": ""
           },
           "bgcolor": "#E5ECF6",
           "caxis": {
            "gridcolor": "white",
            "linecolor": "white",
            "ticks": ""
           }
          },
          "title": {
           "x": 0.05
          },
          "xaxis": {
           "automargin": true,
           "gridcolor": "white",
           "linecolor": "white",
           "ticks": "",
           "title": {
            "standoff": 15
           },
           "zerolinecolor": "white",
           "zerolinewidth": 2
          },
          "yaxis": {
           "automargin": true,
           "gridcolor": "white",
           "linecolor": "white",
           "ticks": "",
           "title": {
            "standoff": 15
           },
           "zerolinecolor": "white",
           "zerolinewidth": 2
          }
         }
        }
       }
      }
     },
     "metadata": {},
     "output_type": "display_data"
    }
   ],
   "source": [
    "st = 0\n",
    "dfpl = data[st:st + 150].copy()\n",
    "fig = go.Figure(data = go.Candlestick(x=df['Date'],\n",
    "                            open=df['Open'],\n",
    "                            high=df['High'],\n",
    "                            low=df['Low'],\n",
    "                            close=df['Close'],\n",
    "                            name='OHLC'))\n",
    "\n",
    "fig.show()"
   ]
  }
 ],
 "metadata": {
  "kernelspec": {
   "display_name": "3.12.5",
   "language": "python",
   "name": "python3"
  },
  "language_info": {
   "codemirror_mode": {
    "name": "ipython",
    "version": 3
   },
   "file_extension": ".py",
   "mimetype": "text/x-python",
   "name": "python",
   "nbconvert_exporter": "python",
   "pygments_lexer": "ipython3",
   "version": "3.12.5"
  }
 },
 "nbformat": 4,
 "nbformat_minor": 2
}
