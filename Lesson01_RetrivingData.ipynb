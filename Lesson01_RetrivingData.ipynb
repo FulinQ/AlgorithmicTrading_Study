{
 "cells": [
  {
   "cell_type": "code",
   "execution_count": 76,
   "metadata": {},
   "outputs": [],
   "source": [
    "import yfinance as yf"
   ]
  },
  {
   "cell_type": "code",
   "execution_count": 77,
   "metadata": {},
   "outputs": [],
   "source": [
    "ticker_symbol = \"AAPL\"\n",
    "\n",
    "ticker = yf.Ticker(ticker_symbol)\n",
    "\n",
    "historical_data = ticker.history(start='1990-01-01',\n",
    "                                 end='2024-12-31',\n",
    "                                 interval='1d',\n",
    "                                 actions=False)\n",
    "#Flattens the Dataframe\n",
    "# historical_data = historical_data.xs(ticker_symbol, axis=1, level=\"Ticker\")"
   ]
  },
  {
   "cell_type": "code",
   "execution_count": 78,
   "metadata": {},
   "outputs": [
    {
     "data": {
      "text/html": [
       "<div>\n",
       "<style scoped>\n",
       "    .dataframe tbody tr th:only-of-type {\n",
       "        vertical-align: middle;\n",
       "    }\n",
       "\n",
       "    .dataframe tbody tr th {\n",
       "        vertical-align: top;\n",
       "    }\n",
       "\n",
       "    .dataframe thead th {\n",
       "        text-align: right;\n",
       "    }\n",
       "</style>\n",
       "<table border=\"1\" class=\"dataframe\">\n",
       "  <thead>\n",
       "    <tr style=\"text-align: right;\">\n",
       "      <th></th>\n",
       "      <th>Open</th>\n",
       "      <th>High</th>\n",
       "      <th>Low</th>\n",
       "      <th>Close</th>\n",
       "      <th>Volume</th>\n",
       "    </tr>\n",
       "    <tr>\n",
       "      <th>Date</th>\n",
       "      <th></th>\n",
       "      <th></th>\n",
       "      <th></th>\n",
       "      <th></th>\n",
       "      <th></th>\n",
       "    </tr>\n",
       "  </thead>\n",
       "  <tbody>\n",
       "    <tr>\n",
       "      <th>1990-01-02 00:00:00-05:00</th>\n",
       "      <td>0.247783</td>\n",
       "      <td>0.263599</td>\n",
       "      <td>0.246026</td>\n",
       "      <td>0.261842</td>\n",
       "      <td>183198400</td>\n",
       "    </tr>\n",
       "    <tr>\n",
       "      <th>1990-01-03 00:00:00-05:00</th>\n",
       "      <td>0.267114</td>\n",
       "      <td>0.267114</td>\n",
       "      <td>0.263599</td>\n",
       "      <td>0.263599</td>\n",
       "      <td>207995200</td>\n",
       "    </tr>\n",
       "    <tr>\n",
       "      <th>1990-01-04 00:00:00-05:00</th>\n",
       "      <td>0.268871</td>\n",
       "      <td>0.272386</td>\n",
       "      <td>0.261842</td>\n",
       "      <td>0.264478</td>\n",
       "      <td>221513600</td>\n",
       "    </tr>\n",
       "    <tr>\n",
       "      <th>1990-01-05 00:00:00-05:00</th>\n",
       "      <td>0.265357</td>\n",
       "      <td>0.268871</td>\n",
       "      <td>0.260084</td>\n",
       "      <td>0.265357</td>\n",
       "      <td>123312000</td>\n",
       "    </tr>\n",
       "    <tr>\n",
       "      <th>1990-01-08 00:00:00-05:00</th>\n",
       "      <td>0.263599</td>\n",
       "      <td>0.267114</td>\n",
       "      <td>0.260084</td>\n",
       "      <td>0.267114</td>\n",
       "      <td>101572800</td>\n",
       "    </tr>\n",
       "  </tbody>\n",
       "</table>\n",
       "</div>"
      ],
      "text/plain": [
       "                               Open      High       Low     Close     Volume\n",
       "Date                                                                        \n",
       "1990-01-02 00:00:00-05:00  0.247783  0.263599  0.246026  0.261842  183198400\n",
       "1990-01-03 00:00:00-05:00  0.267114  0.267114  0.263599  0.263599  207995200\n",
       "1990-01-04 00:00:00-05:00  0.268871  0.272386  0.261842  0.264478  221513600\n",
       "1990-01-05 00:00:00-05:00  0.265357  0.268871  0.260084  0.265357  123312000\n",
       "1990-01-08 00:00:00-05:00  0.263599  0.267114  0.260084  0.267114  101572800"
      ]
     },
     "execution_count": 78,
     "metadata": {},
     "output_type": "execute_result"
    }
   ],
   "source": [
    "historical_data.head(5)"
   ]
  }
 ],
 "metadata": {
  "kernelspec": {
   "display_name": "3.12.5",
   "language": "python",
   "name": "python3"
  },
  "language_info": {
   "codemirror_mode": {
    "name": "ipython",
    "version": 3
   },
   "file_extension": ".py",
   "mimetype": "text/x-python",
   "name": "python",
   "nbconvert_exporter": "python",
   "pygments_lexer": "ipython3",
   "version": "3.12.5"
  }
 },
 "nbformat": 4,
 "nbformat_minor": 2
}
